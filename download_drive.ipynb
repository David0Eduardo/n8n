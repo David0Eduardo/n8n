{
 "cells": [
  {
   "cell_type": "code",
   "execution_count": null,
   "id": "94f85ae1-de60-4f18-b66a-72e3f0a53332",
   "metadata": {},
   "outputs": [],
   "source": [
    "import os\n",
    "import io\n",
    "import pyodbc\n",
    "import pandas as pd\n",
    "from datetime import datetime\n",
    "from google.oauth2 import service_account\n",
    "from googleapiclient.discovery import build\n",
    "from googleapiclient.http import MediaIoBaseDownload\n",
    "from dotenv import load_dotenv\n",
    "\n",
    "now = datetime.now()\n",
    "dia = str(now.day).zfill(2)\n",
    "mes = str(now.month).zfill(2)\n",
    "ano = str(now.year)\n",
    "data_atual = f\"{dia}-{mes}-{ano}\"\n",
    "\n",
    "CAMINHO_ENVS = r\"\\\\192.168.0.210\\exata$\\BUSINESS INTELLIGENCE\\bucket-exata\\config\\chave-json\"\n",
    "\n",
    "# Carrega os .env específicos\n",
    "load_dotenv(os.path.join(CAMINHO_ENVS, \"sql.env\"))\n",
    "load_dotenv(os.path.join(CAMINHO_ENVS, \"path.env\"))\n",
    "load_dotenv(os.path.join(CAMINHO_ENVS, \"creds.env\"))\n",
    "\n",
    "# Agora você pode acessar as variáveis\n",
    "CAMINHO_BASE = os.getenv(\"CAMINHO_BASE\")\n",
    "SERVICE_ACCOUNT_FILE = os.path.join(CAMINHO_BASE, os.getenv(\"SERVICE_ACCOUNT_SUBPATH\"))\n",
    "SERVER = os.getenv(\"SERVER\")\n",
    "INSTANCE = os.getenv(\"INSTANCE\")\n",
    "DRIVER = os.getenv(\"DRIVER\")\n",
    "DATABASE = \"TESTE\"\n",
    "UID = os.getenv(\"UID\")\n",
    "PWD = os.getenv(\"PWD\")"
   ]
  },
  {
   "cell_type": "code",
   "execution_count": null,
   "id": "b12601e6-c5be-441e-a69f-ebb812c1dcfd",
   "metadata": {},
   "outputs": [],
   "source": [
    "connection_string = f'DRIVER={DRIVER};SERVER={SERVER}\\\\{INSTANCE};DATABASE={DATABASE};UID={UID};PWD={PWD}'\n",
    "\n",
    "try:\n",
    "    conn = pyodbc.connect(connection_string)\n",
    "    print(\"Conectou com sucesso!\")\n",
    "except pyodbc.Error as e:\n",
    "    print(\"Erro ao conectar ao banco de dados:\", e)\n",
    "    conn = None\n",
    "\n",
    "if conn:\n",
    "    query = \"SELECT caminho_pasta, id_arquivo, nome_arquivo, tipo_arquivo FROM vw_caminho_arquivos\"\n",
    "    df = pd.read_sql(query, conn)\n",
    "    conn.close()\n",
    "    print(df.head())"
   ]
  },
  {
   "cell_type": "code",
   "execution_count": null,
   "id": "06eecdb7-032f-484c-8b11-53baee792edb",
   "metadata": {},
   "outputs": [],
   "source": [
    "# Autenticação Google Drive\n",
    "credentials = service_account.Credentials.from_service_account_file(\n",
    "    SERVICE_ACCOUNT_FILE,\n",
    "    scopes=['https://www.googleapis.com/auth/drive.readonly']\n",
    ")\n",
    "drive_service = build('drive', 'v3', credentials=credentials)"
   ]
  },
  {
   "cell_type": "code",
   "execution_count": null,
   "id": "33e58627-abfa-4f1e-8aa9-b937bb75e34e",
   "metadata": {},
   "outputs": [],
   "source": [
    "for index, row in df.iterrows():\n",
    "    # Caminho completo do arquivo (sem criar pasta com o nome do arquivo)\n",
    "    caminho_final = os.path.join(\n",
    "        CAMINHO_BASE,\n",
    "        \"T.I\",\n",
    "        \"n8n\",\n",
    "        \"Backup\",\n",
    "        data_atual,\n",
    "        row['caminho_pasta'],\n",
    "        row['nome_arquivo']  # apenas o nome do arquivo, não cria pasta\n",
    "    )\n",
    "    \n",
    "    # Cria todas as pastas do caminho, exceto o arquivo\n",
    "    os.makedirs(os.path.dirname(caminho_final), exist_ok=True)\n",
    "    \n",
    "    # Baixa arquivo do Drive\n",
    "    request = drive_service.files().get_media(fileId=row['id_arquivo'])\n",
    "    with io.FileIO(caminho_final, 'wb') as fh:\n",
    "        downloader = MediaIoBaseDownload(fh, request)\n",
    "        done = False\n",
    "        while not done:\n",
    "            status, done = downloader.next_chunk()\n",
    "            print(f\"Baixando {row['nome_arquivo']}... {int(status.progress() * 100)}%\")\n",
    "    \n",
    "    print(f\"Arquivo salvo em: {caminho_final}\\n\")"
   ]
  }
 ],
 "metadata": {
  "kernelspec": {
   "display_name": "Python 3",
   "language": "python",
   "name": "python3"
  },
  "language_info": {
   "codemirror_mode": {
    "name": "ipython",
    "version": 3
   },
   "file_extension": ".py",
   "mimetype": "text/x-python",
   "name": "python",
   "nbconvert_exporter": "python",
   "pygments_lexer": "ipython3",
   "version": "3.12.7"
  }
 },
 "nbformat": 4,
 "nbformat_minor": 5
}
